{
  "nbformat": 4,
  "nbformat_minor": 0,
  "metadata": {
    "kernelspec": {
      "display_name": "Python 3",
      "language": "python",
      "name": "python3"
    },
    "language_info": {
      "codemirror_mode": {
        "name": "ipython",
        "version": 3
      },
      "file_extension": ".py",
      "mimetype": "text/x-python",
      "name": "python",
      "nbconvert_exporter": "python",
      "pygments_lexer": "ipython3",
      "version": "3.8.5"
    },
    "colab": {
      "name": "Ke Lin Smoothing_assignment.ipynb",
      "provenance": [],
      "include_colab_link": true
    }
  },
  "cells": [
    {
      "cell_type": "markdown",
      "metadata": {
        "id": "view-in-github",
        "colab_type": "text"
      },
      "source": [
        "<a href=\"https://colab.research.google.com/github/Coco-Ke-Lin/Airbnb-Project/blob/master/Ke_Lin_Smoothing_assignment.ipynb\" target=\"_parent\"><img src=\"https://colab.research.google.com/assets/colab-badge.svg\" alt=\"Open In Colab\"/></a>"
      ]
    },
    {
      "cell_type": "markdown",
      "metadata": {
        "id": "lsUknQkKRVyj"
      },
      "source": [
        "## Smoothing assignment"
      ]
    },
    {
      "cell_type": "markdown",
      "metadata": {
        "id": "UxarYqksRVyp"
      },
      "source": [
        "## Background"
      ]
    },
    {
      "cell_type": "markdown",
      "metadata": {
        "id": "uWvAkmxsRVyq"
      },
      "source": [
        "In the Pollard assignment you computed a unigram frequency distribution for the Brown corpus. You will need that for this assignmewnt.\n",
        "\n",
        "This time you will do a bigram distribution:"
      ]
    },
    {
      "cell_type": "code",
      "metadata": {
        "id": "6F8GEAXERVyq"
      },
      "source": [
        "import nltk\n",
        "\n",
        "nltk.download('brown')\n",
        "from nltk import bigrams\n",
        "brown_bigrams = list(bigrams(brown.words()))"
      ],
      "execution_count": 6,
      "outputs": []
    },
    {
      "cell_type": "markdown",
      "metadata": {
        "id": "Li1Cc6_fRVyq"
      },
      "source": [
        "It is instructive to compare brown.words, which we used in the last assignment, with brown.bigrams:"
      ]
    },
    {
      "cell_type": "code",
      "metadata": {
        "colab": {
          "base_uri": "https://localhost:8080/"
        },
        "id": "OvdRFUCkRVyr",
        "outputId": "93daf2e2-b409-49c8-86a6-0ff20122fed8"
      },
      "source": [
        "brown.words()[:10]\n",
        "#['The', 'Fulton', 'County', 'Grand', 'Jury', 'said',\n",
        "# 'Friday', 'an', 'investigation', 'of']"
      ],
      "execution_count": 7,
      "outputs": [
        {
          "output_type": "execute_result",
          "data": {
            "text/plain": [
              "['The',\n",
              " 'Fulton',\n",
              " 'County',\n",
              " 'Grand',\n",
              " 'Jury',\n",
              " 'said',\n",
              " 'Friday',\n",
              " 'an',\n",
              " 'investigation',\n",
              " 'of']"
            ]
          },
          "metadata": {
            "tags": []
          },
          "execution_count": 7
        }
      ]
    },
    {
      "cell_type": "code",
      "metadata": {
        "colab": {
          "base_uri": "https://localhost:8080/"
        },
        "id": "dk4_XNnbRVyr",
        "outputId": "90efebfa-1c8d-4877-e0ff-ad76b5ec3a4b"
      },
      "source": [
        "brown_bigrams[:10]\n",
        "#[('The', 'Fulton'), ('Fulton', 'County'), ('County', 'Grand'),\n",
        "#('Grand', 'Jury'), ('Jury', 'said'), ('said', 'Friday'), ('Friday', 'an'),\n",
        "#('an', 'investigation'), ('investigation', 'of'), ('of', \"Atlanta's\")]"
      ],
      "execution_count": 8,
      "outputs": [
        {
          "output_type": "execute_result",
          "data": {
            "text/plain": [
              "[('The', 'Fulton'),\n",
              " ('Fulton', 'County'),\n",
              " ('County', 'Grand'),\n",
              " ('Grand', 'Jury'),\n",
              " ('Jury', 'said'),\n",
              " ('said', 'Friday'),\n",
              " ('Friday', 'an'),\n",
              " ('an', 'investigation'),\n",
              " ('investigation', 'of'),\n",
              " ('of', \"Atlanta's\")]"
            ]
          },
          "metadata": {
            "tags": []
          },
          "execution_count": 8
        }
      ]
    },
    {
      "cell_type": "markdown",
      "metadata": {
        "id": "CCalDhyTRVyr"
      },
      "source": [
        "So brown.words() returns a list of the words, while brown.bigrams() returns a list of word pairs. Notice the the second word of the first pair becomes the first word of the second pair, and the the second word of the second pair, the first word of the third, and so on. Since each word in Brown becaome the first word of a bigram except the last, there is exactly one more word token than there are bogram tokens:"
      ]
    },
    {
      "cell_type": "code",
      "metadata": {
        "colab": {
          "base_uri": "https://localhost:8080/"
        },
        "id": "oCzkd2xYRVyr",
        "outputId": "c1db9f12-e8a7-4d9d-ff41-7e89e71882ea"
      },
      "source": [
        "len(brown_bigrams)\n",
        "#1161191"
      ],
      "execution_count": 9,
      "outputs": [
        {
          "output_type": "execute_result",
          "data": {
            "text/plain": [
              "1161191"
            ]
          },
          "metadata": {
            "tags": []
          },
          "execution_count": 9
        }
      ]
    },
    {
      "cell_type": "code",
      "metadata": {
        "colab": {
          "base_uri": "https://localhost:8080/"
        },
        "id": "gRJtd9jyRVys",
        "outputId": "509c2e40-5343-4086-9e63-c5981098d08c"
      },
      "source": [
        "len(brown.words())\n",
        "1161192"
      ],
      "execution_count": 10,
      "outputs": [
        {
          "output_type": "execute_result",
          "data": {
            "text/plain": [
              "1161192"
            ]
          },
          "metadata": {
            "tags": []
          },
          "execution_count": 10
        }
      ]
    },
    {
      "cell_type": "markdown",
      "metadata": {
        "id": "tw7n_KF6RVys"
      },
      "source": [
        "## Questions"
      ]
    },
    {
      "cell_type": "markdown",
      "metadata": {
        "id": "gDUNoQkXRVys"
      },
      "source": [
        "Create a new frequency distribution of the Brown bigrams. Plot the cumulative frequency distribution of the top 50 bigrams.\n",
        "\n",
        "Then do add one smoothing on the bigrams. This will require adding one to all the bigram counts, including those that previously had count 0. You will also need to change the ungram counts appropriately. You will compute all possible bigrams using the known vocabulary, so use the keys of the unigram Brown distribution you created before to compute the set of possible bigrams. The vocabulary size from that exercise should be 49815. Then having added 1 to all the bigram counts, you must compute at least the following Probabilities:\n",
        "\n",
        "\n",
        "1. P(the | in) before and after smoothing (P_{\\text{mle}} and P_{\\text{laplace}});\n",
        "\n",
        "2.  P(in the) before and after smoothing;\n",
        "\n",
        "3.  P(said the) before and after smoothing.\n",
        "\n",
        "4. P(the | said) before and after smoothing.\n",
        "\n",
        "In some cases you will to use the unigram counts to compute these probabilities. Remember that the unigram counts must change too when smoothing.\n",
        "\n",
        "Turn in these values and the Python code you used to compute them."
      ]
    },
    {
      "cell_type": "markdown",
      "metadata": {
        "id": "IFv5WeRYRVys"
      },
      "source": [
        "## Helpful Code"
      ]
    },
    {
      "cell_type": "code",
      "metadata": {
        "colab": {
          "base_uri": "https://localhost:8080/"
        },
        "id": "KS-vDAp3RVyt",
        "outputId": "a6c55709-c393-4e98-a534-96e934020d3b"
      },
      "source": [
        "import nltk\n",
        "from nltk.corpus import brown\n",
        "from collections import defaultdict, Counter\n",
        "\n",
        "wds = brown.words()\n",
        "N = len(wds)\n",
        "print(N)"
      ],
      "execution_count": 11,
      "outputs": [
        {
          "output_type": "stream",
          "text": [
            "1161192\n"
          ],
          "name": "stdout"
        }
      ]
    },
    {
      "cell_type": "markdown",
      "metadata": {
        "id": "p94Cgok3RVyt"
      },
      "source": [
        "We make"
      ]
    },
    {
      "cell_type": "code",
      "metadata": {
        "colab": {
          "base_uri": "https://localhost:8080/"
        },
        "id": "xsmM9tgwRVyt",
        "outputId": "c3f5da2c-4819-4090-9f50-5448c5418eb1"
      },
      "source": [
        "mle_unigram_dist = nltk.FreqDist([w.lower() for w in wds])\n",
        "bigram_seq = list(nltk.bigrams(wds))\n",
        "bigram_N = len(bigram_seq)\n",
        "print(bigram_N)              "
      ],
      "execution_count": 12,
      "outputs": [
        {
          "output_type": "stream",
          "text": [
            "1161191\n"
          ],
          "name": "stdout"
        }
      ]
    },
    {
      "cell_type": "markdown",
      "metadata": {
        "id": "Yafb2Cm5RVyu"
      },
      "source": [
        "`bigram_N` = `N - 1`.  Here's why."
      ]
    },
    {
      "cell_type": "code",
      "metadata": {
        "colab": {
          "base_uri": "https://localhost:8080/"
        },
        "id": "Q-if8v38RVyu",
        "outputId": "93b20bef-f9a0-4689-f72b-2dda202dd589"
      },
      "source": [
        "wds[:10]"
      ],
      "execution_count": 13,
      "outputs": [
        {
          "output_type": "execute_result",
          "data": {
            "text/plain": [
              "['The',\n",
              " 'Fulton',\n",
              " 'County',\n",
              " 'Grand',\n",
              " 'Jury',\n",
              " 'said',\n",
              " 'Friday',\n",
              " 'an',\n",
              " 'investigation',\n",
              " 'of']"
            ]
          },
          "metadata": {
            "tags": []
          },
          "execution_count": 13
        }
      ]
    },
    {
      "cell_type": "code",
      "metadata": {
        "colab": {
          "base_uri": "https://localhost:8080/"
        },
        "id": "r38t35gRRVyu",
        "outputId": "61899025-8afc-440c-c280-0d29cd486ff7"
      },
      "source": [
        "bigram_seq[:10]"
      ],
      "execution_count": 14,
      "outputs": [
        {
          "output_type": "execute_result",
          "data": {
            "text/plain": [
              "[('The', 'Fulton'),\n",
              " ('Fulton', 'County'),\n",
              " ('County', 'Grand'),\n",
              " ('Grand', 'Jury'),\n",
              " ('Jury', 'said'),\n",
              " ('said', 'Friday'),\n",
              " ('Friday', 'an'),\n",
              " ('an', 'investigation'),\n",
              " ('investigation', 'of'),\n",
              " ('of', \"Atlanta's\")]"
            ]
          },
          "metadata": {
            "tags": []
          },
          "execution_count": 14
        }
      ]
    },
    {
      "cell_type": "markdown",
      "metadata": {
        "id": "3WCdeR30RVyv"
      },
      "source": [
        "The first bigram starts with the first word, the second with second word and so on.  But there is no bigram\n",
        "that starts with the last word."
      ]
    },
    {
      "cell_type": "markdown",
      "metadata": {
        "id": "xlZIjdUARVyv"
      },
      "source": [
        "We make a frequency distribution for bigrams."
      ]
    },
    {
      "cell_type": "code",
      "metadata": {
        "id": "cEmS25WlRVyv"
      },
      "source": [
        "\n",
        "# MLE stands for Maximum Likelihood Estimate\n",
        "mle_bigram_dist = nltk.FreqDist((x.lower(),y.lower()) for (x,y) in bigram_seq)"
      ],
      "execution_count": 15,
      "outputs": []
    },
    {
      "cell_type": "code",
      "metadata": {
        "colab": {
          "base_uri": "https://localhost:8080/"
        },
        "id": "nLjG29UgRVyv",
        "outputId": "2190d46f-a9cf-4c68-e2a6-8a94a4be3ffe"
      },
      "source": [
        "print(mle_unigram_dist)\n",
        "print(mle_unigram_dist['the'])\n",
        "print(mle_bigram_dist)\n",
        "print(mle_bigram_dist['the','only'])"
      ],
      "execution_count": 16,
      "outputs": [
        {
          "output_type": "stream",
          "text": [
            "<FreqDist with 49815 samples and 1161192 outcomes>\n",
            "69971\n",
            "<FreqDist with 436003 samples and 1161191 outcomes>\n",
            "258\n"
          ],
          "name": "stdout"
        }
      ]
    },
    {
      "cell_type": "markdown",
      "metadata": {
        "id": "jl1IdBmDRVyv"
      },
      "source": [
        "The information printed about `mle_unigram_dist`: The vocabulary has 49,815 word types.  The Brown corpus has 1,161,192 word tokens.\n",
        "\n",
        "The information printed about `mle_bigram_dist`: The \"vocabulary\" (of bigrams) has 436,003 bigram types.  The Brown corpus has 1,161,191 bigram tokens.\n",
        "\n",
        "Notice how many more bigrams **types** there are than unigram types (436,003 vs. 49,815).  Make sure you understand **why** that is.  Every time a word is followed by some word it's never been followed by, that's a new bigram type.  So we see above that the bigram 'the only' has occurred 258 times in Brown (that's quite high for a bigram.  But 'the' also occurs in all the following bigram types, each with a different count."
      ]
    },
    {
      "cell_type": "code",
      "metadata": {
        "colab": {
          "base_uri": "https://localhost:8080/"
        },
        "id": "lzhrt4McRVyw",
        "outputId": "587e4f6f-4879-48ce-a3d4-a0e7c0c426a3"
      },
      "source": [
        "print(mle_bigram_dist['the','time'])\n",
        "print(mle_bigram_dist['the','boy'])\n",
        "print(mle_bigram_dist['the','red'])"
      ],
      "execution_count": 17,
      "outputs": [
        {
          "output_type": "stream",
          "text": [
            "251\n",
            "81\n",
            "44\n"
          ],
          "name": "stdout"
        }
      ]
    },
    {
      "cell_type": "markdown",
      "metadata": {
        "id": "APER-1MURVyw"
      },
      "source": [
        "Since there are 49, 815 word types in the vocabulary, there are"
      ]
    },
    {
      "cell_type": "code",
      "metadata": {
        "colab": {
          "base_uri": "https://localhost:8080/"
        },
        "id": "Nl6yEw41RVyw",
        "outputId": "375a2279-28d2-4130-feda-ce500daec8f3"
      },
      "source": [
        "print(49815**2)\n",
        "print(f'{49815**2:,}')\n"
      ],
      "execution_count": 18,
      "outputs": [
        {
          "output_type": "stream",
          "text": [
            "2481534225\n",
            "2,481,534,225\n"
          ],
          "name": "stdout"
        }
      ]
    },
    {
      "cell_type": "markdown",
      "metadata": {
        "id": "F_RfRGdlRVyw"
      },
      "source": [
        "($49^2$) **possible bigrams types** for this vocabulary, but in the 1.2 million words of Brown, we see \n",
        "only 436,003 actual bigram types.That's"
      ]
    },
    {
      "cell_type": "code",
      "metadata": {
        "id": "hqndrIeiRVyw",
        "colab": {
          "base_uri": "https://localhost:8080/"
        },
        "outputId": "ee2334fb-8ee5-4228-9d3e-fdb54331faf9"
      },
      "source": [
        "print(436003/(49815**2))\n",
        "print(f'{436003/(49815**2):.3%}')"
      ],
      "execution_count": 19,
      "outputs": [
        {
          "output_type": "stream",
          "text": [
            "0.00017569896703721667\n",
            "0.018%\n"
          ],
          "name": "stdout"
        }
      ]
    },
    {
      "cell_type": "markdown",
      "metadata": {
        "id": "BIWAukXvRVyx"
      },
      "source": [
        ".018 % of the possible bigrams, a very tiny fraction."
      ]
    },
    {
      "cell_type": "code",
      "metadata": {
        "id": "mKiGYC0WbC3z"
      },
      "source": [
        ""
      ],
      "execution_count": 19,
      "outputs": []
    },
    {
      "cell_type": "code",
      "metadata": {
        "id": "j0QwyNnrbCoh"
      },
      "source": [
        ""
      ],
      "execution_count": 19,
      "outputs": []
    },
    {
      "cell_type": "code",
      "metadata": {
        "id": "HFqEfNvUUfjc"
      },
      "source": [
        "#Questions \n",
        "\n",
        "## 1. P(the | in) before and after smoothing (P_{\\text{mle}} and P_{\\text{laplace}});\n",
        "\n",
        "## 2.  P(in the) before and after smoothing;\n",
        "\n",
        "## 3.  P(said the) before and after smoothing.\n",
        "\n",
        "## 4. P(the | said) before and after smoothing."
      ],
      "execution_count": 20,
      "outputs": []
    },
    {
      "cell_type": "code",
      "metadata": {
        "colab": {
          "base_uri": "https://localhost:8080/"
        },
        "id": "BvuHKUquVg3Y",
        "outputId": "709a3edc-7c71-48c1-cc91-fd102b3a5b10"
      },
      "source": [
        "import nltk\n",
        "from nltk.corpus import brown\n",
        "from collections import defaultdict, Counter\n",
        "\n",
        "wds = brown.words()\n",
        "N = len(wds)\n",
        "print(N)"
      ],
      "execution_count": 21,
      "outputs": [
        {
          "output_type": "stream",
          "text": [
            "1161192\n"
          ],
          "name": "stdout"
        }
      ]
    },
    {
      "cell_type": "code",
      "metadata": {
        "colab": {
          "base_uri": "https://localhost:8080/"
        },
        "id": "uemyCn_IVg1U",
        "outputId": "0c3fe482-f750-4c07-cf83-f67d94b3f141"
      },
      "source": [
        "mle_unigram_dist = nltk.FreqDist([w.lower() for w in wds])\n",
        "bigram_seq = list(nltk.bigrams(wds))\n",
        "bigram_N = len(bigram_seq)\n",
        "print(bigram_N)       "
      ],
      "execution_count": 22,
      "outputs": [
        {
          "output_type": "stream",
          "text": [
            "1161191\n"
          ],
          "name": "stdout"
        }
      ]
    },
    {
      "cell_type": "code",
      "metadata": {
        "id": "yHsiq8SzVgyn"
      },
      "source": [
        "mle_bigram_dist = nltk.FreqDist((x.lower(),y.lower()) for (x,y) in bigram_seq)"
      ],
      "execution_count": 23,
      "outputs": []
    },
    {
      "cell_type": "code",
      "metadata": {
        "id": "5No4rXAhbJ34"
      },
      "source": [
        "# Create a new frequency distribution of the Brown bigrams. Plot the cumulative frequency distribution of the top 50 bigrams."
      ],
      "execution_count": 24,
      "outputs": []
    },
    {
      "cell_type": "code",
      "metadata": {
        "id": "fxtmyvJxbzG8"
      },
      "source": [
        "import re \n",
        "fdwd=re.compile(r'\\b[a-z]+\\b')"
      ],
      "execution_count": 25,
      "outputs": []
    },
    {
      "cell_type": "code",
      "metadata": {
        "id": "9LQznLeJbFPo"
      },
      "source": [
        "topwd=[ct for (word,ct) in mle_unigram_dist.most_common() if fdwd.match(word)]\n"
      ],
      "execution_count": 26,
      "outputs": []
    },
    {
      "cell_type": "code",
      "metadata": {
        "id": "DrRivIAlbFDM"
      },
      "source": [
        "top50=topwd[0:49]"
      ],
      "execution_count": 27,
      "outputs": []
    },
    {
      "cell_type": "code",
      "metadata": {
        "id": "tHU3_b5Reo5B"
      },
      "source": [
        "import matplotlib.pyplot as plt"
      ],
      "execution_count": 28,
      "outputs": []
    },
    {
      "cell_type": "code",
      "metadata": {
        "id": "0iSMxwF0fT4o",
        "colab": {
          "base_uri": "https://localhost:8080/",
          "height": 312
        },
        "outputId": "9ad281f3-0dd9-4de5-8748-d353d0a7fb98"
      },
      "source": [
        "plt.hist(top50,density=True,histtype='step',cumulative=True)\n",
        "plt.title('Cumulative top 50 frequency distribution')\n",
        "plt.xlabel('Total occurence')\n",
        "plt.ylabel('Likelihood')"
      ],
      "execution_count": 29,
      "outputs": [
        {
          "output_type": "execute_result",
          "data": {
            "text/plain": [
              "Text(0, 0.5, 'Likelihood')"
            ]
          },
          "metadata": {
            "tags": []
          },
          "execution_count": 29
        },
        {
          "output_type": "display_data",
          "data": {
            "image/png": "[encoded data removed]",
            "text/plain": [
              "<Figure size 432x288 with 1 Axes>"
            ]
          },
          "metadata": {
            "tags": [],
            "needs_background": "light"
          }
        }
      ]
    },
    {
      "cell_type": "code",
      "metadata": {
        "id": "sYD6_TUVfTRQ"
      },
      "source": [
        "## Laplace smoothing \n"
      ],
      "execution_count": 32,
      "outputs": []
    },
    {
      "cell_type": "code",
      "metadata": {
        "id": "5VwS1y_Aeptz"
      },
      "source": [
        "V=len(mle_unigram_dist)"
      ],
      "execution_count": 33,
      "outputs": []
    },
    {
      "cell_type": "code",
      "metadata": {
        "id": "gqIYDOX4bgWt"
      },
      "source": [
        "Lm_biagram=bigram_N+(V**2)"
      ],
      "execution_count": 36,
      "outputs": []
    },
    {
      "cell_type": "code",
      "metadata": {
        "id": "0OL6LIv2wFxO"
      },
      "source": [
        "from collections import defaultdict\n",
        "lm_uni = defaultdict(lambda: 0)\n",
        "for x in mle_unigram_dist:\n",
        "    lm_uni[x] = mle_unigram_dist[x] +  V"
      ],
      "execution_count": 38,
      "outputs": []
    },
    {
      "cell_type": "code",
      "metadata": {
        "id": "o9wacXC1wFp1"
      },
      "source": [
        "lm_bigram  = defaultdict(lambda: 1)\n",
        "for w in mle_bigram_dist:\n",
        "    lm_bigram[w] = mle_bigram_dist[w] + 1"
      ],
      "execution_count": 40,
      "outputs": []
    },
    {
      "cell_type": "code",
      "metadata": {
        "id": "Ob48JRfqwFdt"
      },
      "source": [
        ""
      ],
      "execution_count": null,
      "outputs": []
    },
    {
      "cell_type": "code",
      "metadata": {
        "colab": {
          "base_uri": "https://localhost:8080/"
        },
        "id": "6lX2mFq3VgwV",
        "outputId": "e1bc554d-a3ca-46e5-9c4a-aa0ff2110816"
      },
      "source": [
        "# 1  P(the | in) before smothing/  Maximum Likelihood Estimate\n",
        "print(mle_bigram_dist['in','the']/ mle_unigram_dist['in'])"
      ],
      "execution_count": 30,
      "outputs": [
        {
          "output_type": "stream",
          "text": [
            "0.2823733420818297\n"
          ],
          "name": "stdout"
        }
      ]
    },
    {
      "cell_type": "code",
      "metadata": {
        "id": "V3Pp84EXVgo7"
      },
      "source": [
        "# P(the|in) after smothing"
      ],
      "execution_count": 31,
      "outputs": []
    },
    {
      "cell_type": "code",
      "metadata": {
        "id": "cBlC0qXLVge_",
        "colab": {
          "base_uri": "https://localhost:8080/"
        },
        "outputId": "3827a3e9-c8a9-4405-ef97-2c371224e874"
      },
      "source": [
        "print(lm_bigram['in','the']/lm_uni['in'])"
      ],
      "execution_count": 41,
      "outputs": [
        {
          "output_type": "stream",
          "text": [
            "0.08469192714189341\n"
          ],
          "name": "stdout"
        }
      ]
    },
    {
      "cell_type": "code",
      "metadata": {
        "colab": {
          "base_uri": "https://localhost:8080/"
        },
        "id": "Li4S00pxUffz",
        "outputId": "458f8157-ae9c-4f6e-eea5-8a961154b3ac"
      },
      "source": [
        "# 2  P(in the) before smothing \n",
        "print(mle_bigram_dist['in','the']/bigram_N)"
      ],
      "execution_count": null,
      "outputs": [
        {
          "output_type": "stream",
          "text": [
            "0.005188638217140849\n"
          ],
          "name": "stdout"
        }
      ]
    },
    {
      "cell_type": "code",
      "metadata": {
        "id": "jaC67P9jUfbi"
      },
      "source": [
        "#    P(in the) after smothing"
      ],
      "execution_count": null,
      "outputs": []
    },
    {
      "cell_type": "code",
      "metadata": {
        "id": "anARLb1iUfWm",
        "colab": {
          "base_uri": "https://localhost:8080/"
        },
        "outputId": "309b004d-a261-4052-b40d-ea11afec32bc"
      },
      "source": [
        "print(lm_bigram['in','the']/Lm_biagram)"
      ],
      "execution_count": 42,
      "outputs": [
        {
          "output_type": "stream",
          "text": [
            "2.4272006792153355e-06\n"
          ],
          "name": "stdout"
        }
      ]
    },
    {
      "cell_type": "code",
      "metadata": {
        "colab": {
          "base_uri": "https://localhost:8080/"
        },
        "id": "RG9N0oRvUfPN",
        "outputId": "cd889826-015e-4d9f-bcc4-c8056e3424ad"
      },
      "source": [
        "# 3  P(said the) before smothing/  Maximum Likelihood Estimate\n",
        "print(mle_bigram_dist['said','the']/bigram_N)"
      ],
      "execution_count": null,
      "outputs": [
        {
          "output_type": "stream",
          "text": [
            "6.372767270845193e-05\n"
          ],
          "name": "stdout"
        }
      ]
    },
    {
      "cell_type": "code",
      "metadata": {
        "id": "MVkhdC8nUfEY"
      },
      "source": [
        "#    P(said the) after smothing"
      ],
      "execution_count": null,
      "outputs": []
    },
    {
      "cell_type": "code",
      "metadata": {
        "id": "7HTTRn75Ue1L",
        "colab": {
          "base_uri": "https://localhost:8080/"
        },
        "outputId": "2226750e-d49c-4a97-b81f-646759bda6ef"
      },
      "source": [
        "print(lm_bigram['said','the']/Lm_biagram)"
      ],
      "execution_count": 43,
      "outputs": [
        {
          "output_type": "stream",
          "text": [
            "3.020910237987889e-08\n"
          ],
          "name": "stdout"
        }
      ]
    },
    {
      "cell_type": "code",
      "metadata": {
        "colab": {
          "base_uri": "https://localhost:8080/"
        },
        "id": "4grFlspvZfI3",
        "outputId": "9fcf5a03-bf85-4bc0-e730-93132dc492e3"
      },
      "source": [
        "# 4  P(the|said) before smothing/  Maximum Likelihood Estimate\n",
        "print(mle_bigram_dist['said','the']/ mle_unigram_dist['said'])"
      ],
      "execution_count": null,
      "outputs": [
        {
          "output_type": "stream",
          "text": [
            "0.03773584905660377\n"
          ],
          "name": "stdout"
        }
      ]
    },
    {
      "cell_type": "code",
      "metadata": {
        "id": "DLn-MNh6ZkOb"
      },
      "source": [
        "#    P(the|said) after smothing"
      ],
      "execution_count": null,
      "outputs": []
    },
    {
      "cell_type": "code",
      "metadata": {
        "id": "If2CjlHHZud9",
        "colab": {
          "base_uri": "https://localhost:8080/"
        },
        "outputId": "bd51d040-60a6-468f-edb6-703c7645bda4"
      },
      "source": [
        "print(lm_bigram['said','the']/lm_uni['said'])"
      ],
      "execution_count": 44,
      "outputs": [
        {
          "output_type": "stream",
          "text": [
            "0.0014485475896168108\n"
          ],
          "name": "stdout"
        }
      ]
    },
    {
      "cell_type": "code",
      "metadata": {
        "id": "boC8u9zWyL8y"
      },
      "source": [
        ""
      ],
      "execution_count": null,
      "outputs": []
    }
  ]
}